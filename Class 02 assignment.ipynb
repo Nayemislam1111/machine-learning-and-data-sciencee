{
 "cells": [
  {
   "cell_type": "markdown",
   "id": "5a01b21a-b219-43dd-848f-55a1a4c26a32",
   "metadata": {},
   "source": [
    " a=int(input())\n",
    "print(a)"
   ]
  },
  {
   "cell_type": "code",
   "execution_count": null,
   "id": "b304963b-2b4a-4a6c-b7f4-7fdc034703de",
   "metadata": {},
   "outputs": [],
   "source": []
  }
 ],
 "metadata": {
  "kernelspec": {
   "display_name": "Python 3 (ipykernel)",
   "language": "python",
   "name": "python3"
  },
  "language_info": {
   "codemirror_mode": {
    "name": "ipython",
    "version": 3
   },
   "file_extension": ".py",
   "mimetype": "text/x-python",
   "name": "python",
   "nbconvert_exporter": "python",
   "pygments_lexer": "ipython3",
   "version": "3.12.5"
  }
 },
 "nbformat": 4,
 "nbformat_minor": 5
}
